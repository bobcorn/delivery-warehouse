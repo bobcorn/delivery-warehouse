{
  "nbformat": 4,
  "nbformat_minor": 0,
  "metadata": {
    "colab": {
      "name": "Project 1 - Data Warehousing (Data Generation) | Marco Rossini (s291482)",
      "provenance": [],
      "collapsed_sections": [],
      "toc_visible": true
    },
    "kernelspec": {
      "name": "python3",
      "display_name": "Python 3"
    }
  },
  "cells": [
    {
      "cell_type": "markdown",
      "metadata": {
        "id": "YHnLqo--jRFX"
      },
      "source": [
        "# Project 1 - Data Warehousing (Data Generation) | Marco Rossini (s291482)"
      ]
    },
    {
      "cell_type": "markdown",
      "metadata": {
        "id": "p_4rIG7_naES"
      },
      "source": [
        "## Install the required packages"
      ]
    },
    {
      "cell_type": "code",
      "metadata": {
        "id": "nDLCaJesj9vP"
      },
      "source": [
        "pip install italian_holidays"
      ],
      "execution_count": null,
      "outputs": []
    },
    {
      "cell_type": "code",
      "metadata": {
        "id": "_BlIL3oDkGHR"
      },
      "source": [
        "pip install faker"
      ],
      "execution_count": null,
      "outputs": []
    },
    {
      "cell_type": "markdown",
      "metadata": {
        "id": "-Tn9OmRmnmuL"
      },
      "source": [
        "## Import the required packages"
      ]
    },
    {
      "cell_type": "code",
      "metadata": {
        "id": "ymDQKW4hizMp"
      },
      "source": [
        "import random\n",
        "\n",
        "import faker\n",
        "import italian_holidays\n",
        "import numpy as np\n",
        "import pandas as pd\n",
        "import urllib.request\n",
        "\n",
        "from faker import Faker\n",
        "from italian_holidays import italian_holidays"
      ],
      "execution_count": null,
      "outputs": []
    },
    {
      "cell_type": "markdown",
      "metadata": {
        "id": "2PiTvCb5nqaL"
      },
      "source": [
        "## Define the required variables"
      ]
    },
    {
      "cell_type": "code",
      "metadata": {
        "id": "9kTpGFO-jPt1"
      },
      "source": [
        "holidays = italian_holidays()\n",
        "\n",
        "restaurants_number = 5\n",
        "dates_number = 1000\n",
        "deliveries_number = 100000\n",
        "\n",
        "f = Faker('it_IT')\n",
        "\n",
        "names_list = urllib.request.urlopen(\"https://marcorossini.altervista.org/projects/master/advanced-databases/project-work-1/names.txt\").read().decode('cp1252').splitlines()\n",
        "addresses_list = urllib.request.urlopen(\"https://marcorossini.altervista.org/projects/master/advanced-databases/project-work-1/addresses.txt\").read().decode('cp1252').splitlines()\n",
        "addresses = []\n",
        "for _ in range(restaurants_number):\n",
        "    addresses.append(random.choice(addresses_list))\n",
        "\n",
        "dates = [f.date_between(start_date='-500d', end_date='today') for _ in range(dates_number)]\n",
        "categories = ['Indian', 'Italian', 'Pizzeria', 'Chinese/Japanese', 'Other']\n",
        "payment_methods = ['Bancomat', 'Credit card', 'Cash', 'Satispay']\n",
        "transport_modes = ['Bike', 'Scooter', 'Car']"
      ],
      "execution_count": null,
      "outputs": []
    },
    {
      "cell_type": "markdown",
      "metadata": {
        "id": "HAQyFcAtoDVo"
      },
      "source": [
        "## Define the required functions"
      ]
    },
    {
      "cell_type": "code",
      "metadata": {
        "id": "TrVVsEfBjLvG"
      },
      "source": [
        "def flatten(lst):\n",
        "    for el in lst:\n",
        "        if isinstance(el, list):\n",
        "            yield from el\n",
        "        else:\n",
        "            yield el\n",
        "\n",
        "\n",
        "def get_semester(date):\n",
        "    month = date.month\n",
        "\n",
        "    if 0 < month < 6:\n",
        "        return \"1\"\n",
        "    return \"2\"\n",
        "\n",
        "\n",
        "def run():\n",
        "    # Restaurant\n",
        "    dim_restaurant = pd.DataFrame({\n",
        "        'RestaurantID': list(range(restaurants_number)),\n",
        "        'Restaurant': [names_list[i] for i in range(restaurants_number)],\n",
        "        'Address': [\" \".join(f.address().split()[:3]) for _ in range(restaurants_number)],\n",
        "        'City': [addresses[i].split(\";\")[0] for i in range(restaurants_number)],\n",
        "        'Province': [addresses[i].split(\";\")[2] for i in range(restaurants_number)],\n",
        "        'Region': [addresses[i].split(\";\")[1] for i in range(restaurants_number)]\n",
        "    })\n",
        "    dim_restaurant.to_csv(\"dim_restaurant.csv\", index=False)\n",
        "\n",
        "    # Time\n",
        "    dim_time = pd.DataFrame({\n",
        "        'TimeID': list(range(dates_number)),\n",
        "        'Date': [dates[i] for i in range(dates_number)],\n",
        "        'Weekday': [dates[i].strftime(\"%A\") for i in range(dates_number)],\n",
        "        'Holiday': [holidays.is_holiday(str(dates[i])) for i in range(dates_number)],\n",
        "        'Month': [dates[i].strftime('%Y-%m') for i in range(dates_number)],\n",
        "        'Semester': [get_semester(dates[i]) for i in range(dates_number)],\n",
        "        'Year': [dates[i].year for i in range(dates_number)]\n",
        "    })\n",
        "    dim_time.to_csv(\"dim_time.csv\", index=False)\n",
        "\n",
        "    # Category\n",
        "    dim_category = pd.DataFrame({\n",
        "        'CategoryID': list(range(len(categories))),\n",
        "        'Category': [categories[i] for i in range(len(categories))]\n",
        "    })\n",
        "    dim_category.to_csv(\"dim_category.csv\", index=False)\n",
        "\n",
        "    restaurants_numbers = dim_restaurant.copy()\n",
        "    restaurants_numbers['CategoryNumber'] = np.random.randint(0, 5, restaurants_numbers.shape[0])\n",
        "    restaurants_numbers.to_csv(\"restaurants_numbers.csv\", index=False)\n",
        "    restaurants_sample = restaurants_numbers.sample(n=deliveries_number, replace=True)\n",
        "    restaurant_ids = [row['RestaurantID'] for index, row in restaurants_sample.iterrows()]\n",
        "    category_ids = [row['CategoryNumber'] for index, row in restaurants_sample.iterrows()]\n",
        "    revenue = [random.randint(100, 2000) / 10 for _ in restaurant_ids]\n",
        "\n",
        "    # Delivery\n",
        "    fact_delivery = pd.DataFrame({\n",
        "        'RestaurantID': [restaurant_ids[i] for i in range(len(restaurant_ids))],\n",
        "        'CategoryID': [category_ids[i] for i in range(len(category_ids))],\n",
        "        'TimeID': dim_time.sample(n=deliveries_number, replace=True)['TimeID'].tolist(),\n",
        "        'PaymentMethod': list(\n",
        "            flatten([random.choices(payment_methods, [0.2, 0.5, 0.2, 0.1]) for _ in range(deliveries_number)])),\n",
        "        'TransportMode': list(\n",
        "            flatten([random.choices(transport_modes, [0.5, 0.4, 0.1]) for _ in range(len(restaurant_ids))])),\n",
        "        'TotalRevenue': revenue,\n",
        "        'TotalDeliveryTime': [random.randint(int(r / 5), int(r / 3)) + 5 for r in revenue],\n",
        "        'NumberOfDeliveries': [random.randint(int(r / 5 / 4), int(r / 3 / 2)) + 1 for r in revenue],\n",
        "    }).drop_duplicates(['RestaurantID', 'TimeID', 'PaymentMethod', 'TransportMode'], keep='last')\n",
        "    fact_delivery.to_csv(\"fact_delivery.csv\", index=False)"
      ],
      "execution_count": null,
      "outputs": []
    },
    {
      "cell_type": "markdown",
      "metadata": {
        "id": "k0eq6gp4n33N"
      },
      "source": [
        "## Run the data generation"
      ]
    },
    {
      "cell_type": "code",
      "metadata": {
        "id": "JqX26r4GjNCt"
      },
      "source": [
        "run()"
      ],
      "execution_count": null,
      "outputs": []
    }
  ]
}