{
  "nbformat": 4,
  "nbformat_minor": 0,
  "metadata": {
    "colab": {
      "name": "Project 1 - Data Warehousing | Marco Rossini (s291482)",
      "provenance": [],
      "collapsed_sections": [],
      "toc_visible": true
    },
    "kernelspec": {
      "name": "python3",
      "display_name": "Python 3"
    }
  },
  "cells": [
    {
      "cell_type": "markdown",
      "metadata": {
        "id": "RIO49qNUOqhy"
      },
      "source": [
        "# Project 1 - Data Warehousing | Marco Rossini (s291482)"
      ]
    },
    {
      "cell_type": "markdown",
      "metadata": {
        "id": "oNNqmkoEPyXV"
      },
      "source": [
        "## Data import and connection with the database"
      ]
    },
    {
      "cell_type": "code",
      "metadata": {
        "id": "vMsx9qWRviVF"
      },
      "source": [
        "import pandas as pd"
      ],
      "execution_count": null,
      "outputs": []
    },
    {
      "cell_type": "markdown",
      "metadata": {
        "id": "kE_nrIR4ypfy"
      },
      "source": [
        "### Import the input tables"
      ]
    },
    {
      "cell_type": "markdown",
      "metadata": {
        "id": "0AyPU2RoNoUe"
      },
      "source": [
        "Read from URL"
      ]
    },
    {
      "cell_type": "code",
      "metadata": {
        "id": "AgJfpnI0NHTp"
      },
      "source": [
        "dim_restaurant = pd.read_csv(\"https://marcorossini.altervista.org/projects/master/advanced-databases/project-work-1/dim_restaurant.csv\")\n",
        "dim_time = pd.read_csv(\"https://marcorossini.altervista.org/projects/master/advanced-databases/project-work-1/dim_time.csv\")\n",
        "dim_category = pd.read_csv(\"https://marcorossini.altervista.org/projects/master/advanced-databases/project-work-1/dim_category.csv\")\n",
        "fact_delivery = pd.read_csv(\"https://marcorossini.altervista.org/projects/master/advanced-databases/project-work-1/fact_delivery.csv\")"
      ],
      "execution_count": null,
      "outputs": []
    },
    {
      "cell_type": "markdown",
      "metadata": {
        "id": "ShOZBIGVy3x-"
      },
      "source": [
        "### Create a local SQLite database."
      ]
    },
    {
      "cell_type": "markdown",
      "metadata": {
        "id": "yTXEc3hQWa1y"
      },
      "source": [
        "The `create_engine()` function takes the database as one argument. We indicate the URL as the first positional argument with connection arguments. Using the code given below, we can create a database.\n"
      ]
    },
    {
      "cell_type": "code",
      "metadata": {
        "id": "IPpQGOf9vmno"
      },
      "source": [
        "from sqlalchemy import create_engine\n",
        "engine = create_engine('sqlite:///deliveries.db')"
      ],
      "execution_count": null,
      "outputs": []
    },
    {
      "cell_type": "markdown",
      "metadata": {
        "id": "ylJrX0EKzELx"
      },
      "source": [
        "### Write records stored in the dataframe to the SQL database.\n"
      ]
    },
    {
      "cell_type": "markdown",
      "metadata": {
        "id": "Ihuorkw7Yv-f"
      },
      "source": [
        "After creating our engine, we need to define and create our tables. We use the `to_sql` function of pandas."
      ]
    },
    {
      "cell_type": "code",
      "metadata": {
        "id": "NxeoJfB4vmv-"
      },
      "source": [
        "dim_restaurant.to_sql('dim_restaurant', con=engine, if_exists=\"replace\", index=False)\n",
        "dim_time.to_sql(\"dim_time\", con=engine, if_exists=\"replace\", index=False)\n",
        "dim_category.to_sql(\"dim_category\", con=engine, if_exists=\"replace\", index=False)\n",
        "fact_delivery.to_sql(\"fact_delivery\", con=engine, if_exists=\"replace\", index=False)"
      ],
      "execution_count": null,
      "outputs": []
    },
    {
      "cell_type": "code",
      "metadata": {
        "id": "k1ExZL0O-__E",
        "colab": {
          "base_uri": "https://localhost:8080/",
          "height": 195
        },
        "outputId": "edee9664-2b72-4dc9-aa12-005d33981664"
      },
      "source": [
        "dim_restaurant.head()"
      ],
      "execution_count": null,
      "outputs": [
        {
          "output_type": "execute_result",
          "data": {
            "text/html": [
              "<div>\n",
              "<style scoped>\n",
              "    .dataframe tbody tr th:only-of-type {\n",
              "        vertical-align: middle;\n",
              "    }\n",
              "\n",
              "    .dataframe tbody tr th {\n",
              "        vertical-align: top;\n",
              "    }\n",
              "\n",
              "    .dataframe thead th {\n",
              "        text-align: right;\n",
              "    }\n",
              "</style>\n",
              "<table border=\"1\" class=\"dataframe\">\n",
              "  <thead>\n",
              "    <tr style=\"text-align: right;\">\n",
              "      <th></th>\n",
              "      <th>RestaurantID</th>\n",
              "      <th>Restaurant</th>\n",
              "      <th>Address</th>\n",
              "      <th>City</th>\n",
              "      <th>Province</th>\n",
              "      <th>Region</th>\n",
              "    </tr>\n",
              "  </thead>\n",
              "  <tbody>\n",
              "    <tr>\n",
              "      <th>0</th>\n",
              "      <td>0</td>\n",
              "      <td>Locanda La Lina</td>\n",
              "      <td>Canale Giovanna 386</td>\n",
              "      <td>Samo</td>\n",
              "      <td>Reggio Calabria (RC)</td>\n",
              "      <td>Calabria</td>\n",
              "    </tr>\n",
              "    <tr>\n",
              "      <th>1</th>\n",
              "      <td>1</td>\n",
              "      <td>Ristorante I Fondi</td>\n",
              "      <td>Canale Giacinto 78</td>\n",
              "      <td>Diano d'Alba</td>\n",
              "      <td>Cuneo (CN)</td>\n",
              "      <td>Piemonte</td>\n",
              "    </tr>\n",
              "    <tr>\n",
              "      <th>2</th>\n",
              "      <td>2</td>\n",
              "      <td>Bellezza</td>\n",
              "      <td>Via Gaspare 4</td>\n",
              "      <td>Mortara</td>\n",
              "      <td>Pavia (PV)</td>\n",
              "      <td>Lombardia</td>\n",
              "    </tr>\n",
              "    <tr>\n",
              "      <th>3</th>\n",
              "      <td>3</td>\n",
              "      <td>Ciccio Marina</td>\n",
              "      <td>Via Corradi 10</td>\n",
              "      <td>Ciriè</td>\n",
              "      <td>Torino (TO)</td>\n",
              "      <td>Piemonte</td>\n",
              "    </tr>\n",
              "    <tr>\n",
              "      <th>4</th>\n",
              "      <td>4</td>\n",
              "      <td>Enoteca Velia</td>\n",
              "      <td>Viale Sabatino 7</td>\n",
              "      <td>San Giacomo delle Segnate</td>\n",
              "      <td>Mantova (MN)</td>\n",
              "      <td>Lombardia</td>\n",
              "    </tr>\n",
              "  </tbody>\n",
              "</table>\n",
              "</div>"
            ],
            "text/plain": [
              "   RestaurantID          Restaurant  ...              Province     Region\n",
              "0             0     Locanda La Lina  ...  Reggio Calabria (RC)   Calabria\n",
              "1             1  Ristorante I Fondi  ...            Cuneo (CN)   Piemonte\n",
              "2             2            Bellezza  ...            Pavia (PV)  Lombardia\n",
              "3             3       Ciccio Marina  ...           Torino (TO)   Piemonte\n",
              "4             4       Enoteca Velia  ...          Mantova (MN)  Lombardia\n",
              "\n",
              "[5 rows x 6 columns]"
            ]
          },
          "metadata": {
            "tags": []
          },
          "execution_count": 5
        }
      ]
    },
    {
      "cell_type": "code",
      "metadata": {
        "id": "_ciL2FMx_FAW",
        "colab": {
          "base_uri": "https://localhost:8080/",
          "height": 195
        },
        "outputId": "2387d0f2-81de-456e-ec1b-7df08bde7a2d"
      },
      "source": [
        "dim_time.head()"
      ],
      "execution_count": null,
      "outputs": [
        {
          "output_type": "execute_result",
          "data": {
            "text/html": [
              "<div>\n",
              "<style scoped>\n",
              "    .dataframe tbody tr th:only-of-type {\n",
              "        vertical-align: middle;\n",
              "    }\n",
              "\n",
              "    .dataframe tbody tr th {\n",
              "        vertical-align: top;\n",
              "    }\n",
              "\n",
              "    .dataframe thead th {\n",
              "        text-align: right;\n",
              "    }\n",
              "</style>\n",
              "<table border=\"1\" class=\"dataframe\">\n",
              "  <thead>\n",
              "    <tr style=\"text-align: right;\">\n",
              "      <th></th>\n",
              "      <th>TimeID</th>\n",
              "      <th>Date</th>\n",
              "      <th>Weekday</th>\n",
              "      <th>Holiday</th>\n",
              "      <th>Month</th>\n",
              "      <th>Semester</th>\n",
              "      <th>Year</th>\n",
              "    </tr>\n",
              "  </thead>\n",
              "  <tbody>\n",
              "    <tr>\n",
              "      <th>0</th>\n",
              "      <td>0</td>\n",
              "      <td>2020-05-30</td>\n",
              "      <td>Saturday</td>\n",
              "      <td>False</td>\n",
              "      <td>2020-05</td>\n",
              "      <td>1</td>\n",
              "      <td>2020</td>\n",
              "    </tr>\n",
              "    <tr>\n",
              "      <th>1</th>\n",
              "      <td>1</td>\n",
              "      <td>2019-12-30</td>\n",
              "      <td>Monday</td>\n",
              "      <td>False</td>\n",
              "      <td>2019-12</td>\n",
              "      <td>2</td>\n",
              "      <td>2019</td>\n",
              "    </tr>\n",
              "    <tr>\n",
              "      <th>2</th>\n",
              "      <td>2</td>\n",
              "      <td>2020-03-03</td>\n",
              "      <td>Tuesday</td>\n",
              "      <td>False</td>\n",
              "      <td>2020-03</td>\n",
              "      <td>1</td>\n",
              "      <td>2020</td>\n",
              "    </tr>\n",
              "    <tr>\n",
              "      <th>3</th>\n",
              "      <td>3</td>\n",
              "      <td>2021-01-02</td>\n",
              "      <td>Saturday</td>\n",
              "      <td>False</td>\n",
              "      <td>2021-01</td>\n",
              "      <td>1</td>\n",
              "      <td>2021</td>\n",
              "    </tr>\n",
              "    <tr>\n",
              "      <th>4</th>\n",
              "      <td>4</td>\n",
              "      <td>2020-07-13</td>\n",
              "      <td>Monday</td>\n",
              "      <td>False</td>\n",
              "      <td>2020-07</td>\n",
              "      <td>2</td>\n",
              "      <td>2020</td>\n",
              "    </tr>\n",
              "  </tbody>\n",
              "</table>\n",
              "</div>"
            ],
            "text/plain": [
              "   TimeID        Date   Weekday  Holiday    Month  Semester  Year\n",
              "0       0  2020-05-30  Saturday    False  2020-05         1  2020\n",
              "1       1  2019-12-30    Monday    False  2019-12         2  2019\n",
              "2       2  2020-03-03   Tuesday    False  2020-03         1  2020\n",
              "3       3  2021-01-02  Saturday    False  2021-01         1  2021\n",
              "4       4  2020-07-13    Monday    False  2020-07         2  2020"
            ]
          },
          "metadata": {
            "tags": []
          },
          "execution_count": 6
        }
      ]
    },
    {
      "cell_type": "code",
      "metadata": {
        "id": "l8Hubps3_E0c",
        "colab": {
          "base_uri": "https://localhost:8080/",
          "height": 195
        },
        "outputId": "1012540f-6a60-4595-ab08-0d2dcc851102"
      },
      "source": [
        "dim_category.head()"
      ],
      "execution_count": null,
      "outputs": [
        {
          "output_type": "execute_result",
          "data": {
            "text/html": [
              "<div>\n",
              "<style scoped>\n",
              "    .dataframe tbody tr th:only-of-type {\n",
              "        vertical-align: middle;\n",
              "    }\n",
              "\n",
              "    .dataframe tbody tr th {\n",
              "        vertical-align: top;\n",
              "    }\n",
              "\n",
              "    .dataframe thead th {\n",
              "        text-align: right;\n",
              "    }\n",
              "</style>\n",
              "<table border=\"1\" class=\"dataframe\">\n",
              "  <thead>\n",
              "    <tr style=\"text-align: right;\">\n",
              "      <th></th>\n",
              "      <th>CategoryID</th>\n",
              "      <th>Category</th>\n",
              "    </tr>\n",
              "  </thead>\n",
              "  <tbody>\n",
              "    <tr>\n",
              "      <th>0</th>\n",
              "      <td>0</td>\n",
              "      <td>Indian</td>\n",
              "    </tr>\n",
              "    <tr>\n",
              "      <th>1</th>\n",
              "      <td>1</td>\n",
              "      <td>Italian</td>\n",
              "    </tr>\n",
              "    <tr>\n",
              "      <th>2</th>\n",
              "      <td>2</td>\n",
              "      <td>Pizzeria</td>\n",
              "    </tr>\n",
              "    <tr>\n",
              "      <th>3</th>\n",
              "      <td>3</td>\n",
              "      <td>Chinese/Japanese</td>\n",
              "    </tr>\n",
              "    <tr>\n",
              "      <th>4</th>\n",
              "      <td>4</td>\n",
              "      <td>Other</td>\n",
              "    </tr>\n",
              "  </tbody>\n",
              "</table>\n",
              "</div>"
            ],
            "text/plain": [
              "   CategoryID          Category\n",
              "0           0            Indian\n",
              "1           1           Italian\n",
              "2           2          Pizzeria\n",
              "3           3  Chinese/Japanese\n",
              "4           4             Other"
            ]
          },
          "metadata": {
            "tags": []
          },
          "execution_count": 7
        }
      ]
    },
    {
      "cell_type": "code",
      "metadata": {
        "id": "qbiGad4k_bJQ",
        "colab": {
          "base_uri": "https://localhost:8080/",
          "height": 195
        },
        "outputId": "7fcb3698-f80b-467e-effd-827bd20e1aca"
      },
      "source": [
        "fact_delivery.head()"
      ],
      "execution_count": null,
      "outputs": [
        {
          "output_type": "execute_result",
          "data": {
            "text/html": [
              "<div>\n",
              "<style scoped>\n",
              "    .dataframe tbody tr th:only-of-type {\n",
              "        vertical-align: middle;\n",
              "    }\n",
              "\n",
              "    .dataframe tbody tr th {\n",
              "        vertical-align: top;\n",
              "    }\n",
              "\n",
              "    .dataframe thead th {\n",
              "        text-align: right;\n",
              "    }\n",
              "</style>\n",
              "<table border=\"1\" class=\"dataframe\">\n",
              "  <thead>\n",
              "    <tr style=\"text-align: right;\">\n",
              "      <th></th>\n",
              "      <th>RestaurantID</th>\n",
              "      <th>CategoryID</th>\n",
              "      <th>TimeID</th>\n",
              "      <th>PaymentMethod</th>\n",
              "      <th>TransportMode</th>\n",
              "      <th>TotalRevenue</th>\n",
              "      <th>TotalDeliveryTime</th>\n",
              "      <th>NumberOfDeliveries</th>\n",
              "    </tr>\n",
              "  </thead>\n",
              "  <tbody>\n",
              "    <tr>\n",
              "      <th>0</th>\n",
              "      <td>4</td>\n",
              "      <td>1</td>\n",
              "      <td>349</td>\n",
              "      <td>Satispay</td>\n",
              "      <td>Scooter</td>\n",
              "      <td>30.3</td>\n",
              "      <td>12</td>\n",
              "      <td>2</td>\n",
              "    </tr>\n",
              "    <tr>\n",
              "      <th>1</th>\n",
              "      <td>0</td>\n",
              "      <td>4</td>\n",
              "      <td>143</td>\n",
              "      <td>Cash</td>\n",
              "      <td>Scooter</td>\n",
              "      <td>67.9</td>\n",
              "      <td>24</td>\n",
              "      <td>6</td>\n",
              "    </tr>\n",
              "    <tr>\n",
              "      <th>2</th>\n",
              "      <td>4</td>\n",
              "      <td>1</td>\n",
              "      <td>699</td>\n",
              "      <td>Bancomat</td>\n",
              "      <td>Car</td>\n",
              "      <td>107.5</td>\n",
              "      <td>31</td>\n",
              "      <td>9</td>\n",
              "    </tr>\n",
              "    <tr>\n",
              "      <th>3</th>\n",
              "      <td>2</td>\n",
              "      <td>1</td>\n",
              "      <td>958</td>\n",
              "      <td>Satispay</td>\n",
              "      <td>Bike</td>\n",
              "      <td>47.7</td>\n",
              "      <td>17</td>\n",
              "      <td>8</td>\n",
              "    </tr>\n",
              "    <tr>\n",
              "      <th>4</th>\n",
              "      <td>4</td>\n",
              "      <td>1</td>\n",
              "      <td>920</td>\n",
              "      <td>Satispay</td>\n",
              "      <td>Car</td>\n",
              "      <td>88.7</td>\n",
              "      <td>34</td>\n",
              "      <td>11</td>\n",
              "    </tr>\n",
              "  </tbody>\n",
              "</table>\n",
              "</div>"
            ],
            "text/plain": [
              "   RestaurantID  CategoryID  ...  TotalDeliveryTime NumberOfDeliveries\n",
              "0             4           1  ...                 12                  2\n",
              "1             0           4  ...                 24                  6\n",
              "2             4           1  ...                 31                  9\n",
              "3             2           1  ...                 17                  8\n",
              "4             4           1  ...                 34                 11\n",
              "\n",
              "[5 rows x 8 columns]"
            ]
          },
          "metadata": {
            "tags": []
          },
          "execution_count": 8
        }
      ]
    },
    {
      "cell_type": "markdown",
      "metadata": {
        "id": "_I7xE5YXE1sC"
      },
      "source": [
        "\n",
        "## Querying the Data Warehouse"
      ]
    },
    {
      "cell_type": "markdown",
      "metadata": {
        "id": "xVhWlcj42-cI"
      },
      "source": [
        "### Query A"
      ]
    },
    {
      "cell_type": "markdown",
      "metadata": {
        "id": "096_1YrO2-cK"
      },
      "source": [
        "*\\\"For each day, select the total revenue and the average revenue per delivery. Sort the result by date.\\\"*"
      ]
    },
    {
      "cell_type": "code",
      "metadata": {
        "id": "dzHexxlEPO3Z",
        "colab": {
          "base_uri": "https://localhost:8080/"
        },
        "outputId": "b37966bc-52a5-4df9-9d12-8826bc207000"
      },
      "source": [
        "query_a = \"SELECT Date, SUM(TotalRevenue) as TotalRevenue, SUM(TotalRevenue) / SUM(NumberOfDeliveries) as AverageRevenuePerDelivery \\\n",
        "          FROM fact_delivery F, dim_time T \\\n",
        "          WHERE F.TimeID = T.TimeID \\\n",
        "          GROUP BY Date \\\n",
        "          ORDER BY Date\"\n",
        "\n",
        "pd.read_sql_query(query_a, engine)"
      ],
      "execution_count": null,
      "outputs": [
        {
          "output_type": "execute_result",
          "data": {
            "text/html": [
              "<div>\n",
              "<style scoped>\n",
              "    .dataframe tbody tr th:only-of-type {\n",
              "        vertical-align: middle;\n",
              "    }\n",
              "\n",
              "    .dataframe tbody tr th {\n",
              "        vertical-align: top;\n",
              "    }\n",
              "\n",
              "    .dataframe thead th {\n",
              "        text-align: right;\n",
              "    }\n",
              "</style>\n",
              "<table border=\"1\" class=\"dataframe\">\n",
              "  <thead>\n",
              "    <tr style=\"text-align: right;\">\n",
              "      <th></th>\n",
              "      <th>Date</th>\n",
              "      <th>TotalRevenue</th>\n",
              "      <th>AverageRevenuePerDelivery</th>\n",
              "    </tr>\n",
              "  </thead>\n",
              "  <tbody>\n",
              "    <tr>\n",
              "      <th>0</th>\n",
              "      <td>2019-10-25</td>\n",
              "      <td>15572.5</td>\n",
              "      <td>8.542238</td>\n",
              "    </tr>\n",
              "    <tr>\n",
              "      <th>1</th>\n",
              "      <td>2019-10-26</td>\n",
              "      <td>4603.8</td>\n",
              "      <td>8.686415</td>\n",
              "    </tr>\n",
              "    <tr>\n",
              "      <th>2</th>\n",
              "      <td>2019-10-27</td>\n",
              "      <td>8153.7</td>\n",
              "      <td>8.882026</td>\n",
              "    </tr>\n",
              "    <tr>\n",
              "      <th>3</th>\n",
              "      <td>2019-10-29</td>\n",
              "      <td>3656.5</td>\n",
              "      <td>8.235360</td>\n",
              "    </tr>\n",
              "    <tr>\n",
              "      <th>4</th>\n",
              "      <td>2019-10-30</td>\n",
              "      <td>12040.1</td>\n",
              "      <td>8.686941</td>\n",
              "    </tr>\n",
              "    <tr>\n",
              "      <th>...</th>\n",
              "      <td>...</td>\n",
              "      <td>...</td>\n",
              "      <td>...</td>\n",
              "    </tr>\n",
              "    <tr>\n",
              "      <th>416</th>\n",
              "      <td>2021-02-28</td>\n",
              "      <td>12791.8</td>\n",
              "      <td>8.773525</td>\n",
              "    </tr>\n",
              "    <tr>\n",
              "      <th>417</th>\n",
              "      <td>2021-03-01</td>\n",
              "      <td>8874.3</td>\n",
              "      <td>8.443673</td>\n",
              "    </tr>\n",
              "    <tr>\n",
              "      <th>418</th>\n",
              "      <td>2021-03-02</td>\n",
              "      <td>3803.7</td>\n",
              "      <td>8.949882</td>\n",
              "    </tr>\n",
              "    <tr>\n",
              "      <th>419</th>\n",
              "      <td>2021-03-04</td>\n",
              "      <td>8248.3</td>\n",
              "      <td>8.646017</td>\n",
              "    </tr>\n",
              "    <tr>\n",
              "      <th>420</th>\n",
              "      <td>2021-03-06</td>\n",
              "      <td>9348.5</td>\n",
              "      <td>8.997594</td>\n",
              "    </tr>\n",
              "  </tbody>\n",
              "</table>\n",
              "<p>421 rows × 3 columns</p>\n",
              "</div>"
            ],
            "text/plain": [
              "           Date  TotalRevenue  AverageRevenuePerDelivery\n",
              "0    2019-10-25       15572.5                   8.542238\n",
              "1    2019-10-26        4603.8                   8.686415\n",
              "2    2019-10-27        8153.7                   8.882026\n",
              "3    2019-10-29        3656.5                   8.235360\n",
              "4    2019-10-30       12040.1                   8.686941\n",
              "..          ...           ...                        ...\n",
              "416  2021-02-28       12791.8                   8.773525\n",
              "417  2021-03-01        8874.3                   8.443673\n",
              "418  2021-03-02        3803.7                   8.949882\n",
              "419  2021-03-04        8248.3                   8.646017\n",
              "420  2021-03-06        9348.5                   8.997594\n",
              "\n",
              "[421 rows x 3 columns]"
            ]
          },
          "metadata": {
            "tags": []
          },
          "execution_count": 9
        }
      ]
    },
    {
      "cell_type": "markdown",
      "metadata": {
        "id": "RZneyJlhP6LI"
      },
      "source": [
        "### Query B\n"
      ]
    },
    {
      "cell_type": "markdown",
      "metadata": {
        "id": "Rx9zbJqaNt3o"
      },
      "source": [
        "*\\\"Select the yearly revenue and the total number of deliveries for each restaurant. Sort the results by descending yearly revenue.\\\"*"
      ]
    },
    {
      "cell_type": "code",
      "metadata": {
        "id": "Pw-gLozZQWcz",
        "colab": {
          "base_uri": "https://localhost:8080/",
          "height": 491
        },
        "outputId": "68ee6b1e-f174-418a-acd1-51daf4b713e0"
      },
      "source": [
        "query_b = \"SELECT Restaurant, Year, SUM(TotalRevenue) as YearlyRevenue, SUM(NumberOfDeliveries) as TotalNumberOfDeliveries \\\n",
        "          FROM fact_delivery F, dim_time T, dim_restaurant R \\\n",
        "          WHERE F.RestaurantID = R.RestaurantID AND F.TimeID = T.TimeID \\\n",
        "          GROUP BY Restaurant, Year \\\n",
        "          ORDER BY YearlyRevenue DESC\"\n",
        "\n",
        "pd.read_sql_query(query_b, engine)"
      ],
      "execution_count": null,
      "outputs": [
        {
          "output_type": "execute_result",
          "data": {
            "text/html": [
              "<div>\n",
              "<style scoped>\n",
              "    .dataframe tbody tr th:only-of-type {\n",
              "        vertical-align: middle;\n",
              "    }\n",
              "\n",
              "    .dataframe tbody tr th {\n",
              "        vertical-align: top;\n",
              "    }\n",
              "\n",
              "    .dataframe thead th {\n",
              "        text-align: right;\n",
              "    }\n",
              "</style>\n",
              "<table border=\"1\" class=\"dataframe\">\n",
              "  <thead>\n",
              "    <tr style=\"text-align: right;\">\n",
              "      <th></th>\n",
              "      <th>Restaurant</th>\n",
              "      <th>Year</th>\n",
              "      <th>YearlyRevenue</th>\n",
              "      <th>TotalNumberOfDeliveries</th>\n",
              "    </tr>\n",
              "  </thead>\n",
              "  <tbody>\n",
              "    <tr>\n",
              "      <th>0</th>\n",
              "      <td>Locanda La Lina</td>\n",
              "      <td>2020</td>\n",
              "      <td>619678.9</td>\n",
              "      <td>69868</td>\n",
              "    </tr>\n",
              "    <tr>\n",
              "      <th>1</th>\n",
              "      <td>Ciccio Marina</td>\n",
              "      <td>2020</td>\n",
              "      <td>616698.9</td>\n",
              "      <td>70120</td>\n",
              "    </tr>\n",
              "    <tr>\n",
              "      <th>2</th>\n",
              "      <td>Enoteca Velia</td>\n",
              "      <td>2020</td>\n",
              "      <td>613680.8</td>\n",
              "      <td>69160</td>\n",
              "    </tr>\n",
              "    <tr>\n",
              "      <th>3</th>\n",
              "      <td>Bellezza</td>\n",
              "      <td>2020</td>\n",
              "      <td>612936.5</td>\n",
              "      <td>69648</td>\n",
              "    </tr>\n",
              "    <tr>\n",
              "      <th>4</th>\n",
              "      <td>Ristorante I Fondi</td>\n",
              "      <td>2020</td>\n",
              "      <td>608939.0</td>\n",
              "      <td>68726</td>\n",
              "    </tr>\n",
              "    <tr>\n",
              "      <th>5</th>\n",
              "      <td>Locanda La Lina</td>\n",
              "      <td>2019</td>\n",
              "      <td>121695.3</td>\n",
              "      <td>13701</td>\n",
              "    </tr>\n",
              "    <tr>\n",
              "      <th>6</th>\n",
              "      <td>Bellezza</td>\n",
              "      <td>2019</td>\n",
              "      <td>120332.0</td>\n",
              "      <td>13698</td>\n",
              "    </tr>\n",
              "    <tr>\n",
              "      <th>7</th>\n",
              "      <td>Enoteca Velia</td>\n",
              "      <td>2019</td>\n",
              "      <td>119796.6</td>\n",
              "      <td>13518</td>\n",
              "    </tr>\n",
              "    <tr>\n",
              "      <th>8</th>\n",
              "      <td>Ciccio Marina</td>\n",
              "      <td>2019</td>\n",
              "      <td>119220.5</td>\n",
              "      <td>13421</td>\n",
              "    </tr>\n",
              "    <tr>\n",
              "      <th>9</th>\n",
              "      <td>Ristorante I Fondi</td>\n",
              "      <td>2019</td>\n",
              "      <td>118782.7</td>\n",
              "      <td>13175</td>\n",
              "    </tr>\n",
              "    <tr>\n",
              "      <th>10</th>\n",
              "      <td>Ristorante I Fondi</td>\n",
              "      <td>2021</td>\n",
              "      <td>107414.3</td>\n",
              "      <td>12353</td>\n",
              "    </tr>\n",
              "    <tr>\n",
              "      <th>11</th>\n",
              "      <td>Bellezza</td>\n",
              "      <td>2021</td>\n",
              "      <td>104722.7</td>\n",
              "      <td>11854</td>\n",
              "    </tr>\n",
              "    <tr>\n",
              "      <th>12</th>\n",
              "      <td>Ciccio Marina</td>\n",
              "      <td>2021</td>\n",
              "      <td>104524.2</td>\n",
              "      <td>11760</td>\n",
              "    </tr>\n",
              "    <tr>\n",
              "      <th>13</th>\n",
              "      <td>Enoteca Velia</td>\n",
              "      <td>2021</td>\n",
              "      <td>104016.6</td>\n",
              "      <td>11883</td>\n",
              "    </tr>\n",
              "    <tr>\n",
              "      <th>14</th>\n",
              "      <td>Locanda La Lina</td>\n",
              "      <td>2021</td>\n",
              "      <td>101752.7</td>\n",
              "      <td>11523</td>\n",
              "    </tr>\n",
              "  </tbody>\n",
              "</table>\n",
              "</div>"
            ],
            "text/plain": [
              "            Restaurant  Year  YearlyRevenue  TotalNumberOfDeliveries\n",
              "0      Locanda La Lina  2020       619678.9                    69868\n",
              "1        Ciccio Marina  2020       616698.9                    70120\n",
              "2        Enoteca Velia  2020       613680.8                    69160\n",
              "3             Bellezza  2020       612936.5                    69648\n",
              "4   Ristorante I Fondi  2020       608939.0                    68726\n",
              "5      Locanda La Lina  2019       121695.3                    13701\n",
              "6             Bellezza  2019       120332.0                    13698\n",
              "7        Enoteca Velia  2019       119796.6                    13518\n",
              "8        Ciccio Marina  2019       119220.5                    13421\n",
              "9   Ristorante I Fondi  2019       118782.7                    13175\n",
              "10  Ristorante I Fondi  2021       107414.3                    12353\n",
              "11            Bellezza  2021       104722.7                    11854\n",
              "12       Ciccio Marina  2021       104524.2                    11760\n",
              "13       Enoteca Velia  2021       104016.6                    11883\n",
              "14     Locanda La Lina  2021       101752.7                    11523"
            ]
          },
          "metadata": {
            "tags": []
          },
          "execution_count": 10
        }
      ]
    },
    {
      "cell_type": "markdown",
      "metadata": {
        "id": "InecNp0q4F5n"
      },
      "source": [
        "### Query C\n"
      ]
    },
    {
      "cell_type": "markdown",
      "metadata": {
        "id": "dGJnZSwL4F51"
      },
      "source": [
        "*\\\"Separately for each transport mode and year, select the total number of deliveries and the average time for delivery.\\\"*"
      ]
    },
    {
      "cell_type": "code",
      "metadata": {
        "id": "WuZE5RmkQ6Pl",
        "colab": {
          "base_uri": "https://localhost:8080/",
          "height": 314
        },
        "outputId": "1a24e094-5d69-44c9-c921-3db79c9f9167"
      },
      "source": [
        "query_c = \"SELECT TransportMode, Year, SUM(NumberOfDeliveries) as TotalNumberOfDeliveries, SUM(TotalDeliveryTime) / SUM(NumberOfDeliveries) as AverageDeliveryTime \\\n",
        "          FROM fact_delivery F, dim_time T \\\n",
        "          WHERE F.TimeID = T.TimeID \\\n",
        "          GROUP BY TransportMode, Year\"\n",
        "\n",
        "pd.read_sql_query(query_c, engine)"
      ],
      "execution_count": null,
      "outputs": [
        {
          "output_type": "execute_result",
          "data": {
            "text/html": [
              "<div>\n",
              "<style scoped>\n",
              "    .dataframe tbody tr th:only-of-type {\n",
              "        vertical-align: middle;\n",
              "    }\n",
              "\n",
              "    .dataframe tbody tr th {\n",
              "        vertical-align: top;\n",
              "    }\n",
              "\n",
              "    .dataframe thead th {\n",
              "        text-align: right;\n",
              "    }\n",
              "</style>\n",
              "<table border=\"1\" class=\"dataframe\">\n",
              "  <thead>\n",
              "    <tr style=\"text-align: right;\">\n",
              "      <th></th>\n",
              "      <th>TransportMode</th>\n",
              "      <th>Year</th>\n",
              "      <th>TotalNumberOfDeliveries</th>\n",
              "      <th>AverageDeliveryTime</th>\n",
              "    </tr>\n",
              "  </thead>\n",
              "  <tbody>\n",
              "    <tr>\n",
              "      <th>0</th>\n",
              "      <td>Bike</td>\n",
              "      <td>2019</td>\n",
              "      <td>28225</td>\n",
              "      <td>2</td>\n",
              "    </tr>\n",
              "    <tr>\n",
              "      <th>1</th>\n",
              "      <td>Bike</td>\n",
              "      <td>2020</td>\n",
              "      <td>145404</td>\n",
              "      <td>2</td>\n",
              "    </tr>\n",
              "    <tr>\n",
              "      <th>2</th>\n",
              "      <td>Bike</td>\n",
              "      <td>2021</td>\n",
              "      <td>24967</td>\n",
              "      <td>2</td>\n",
              "    </tr>\n",
              "    <tr>\n",
              "      <th>3</th>\n",
              "      <td>Car</td>\n",
              "      <td>2019</td>\n",
              "      <td>12921</td>\n",
              "      <td>2</td>\n",
              "    </tr>\n",
              "    <tr>\n",
              "      <th>4</th>\n",
              "      <td>Car</td>\n",
              "      <td>2020</td>\n",
              "      <td>66158</td>\n",
              "      <td>2</td>\n",
              "    </tr>\n",
              "    <tr>\n",
              "      <th>5</th>\n",
              "      <td>Car</td>\n",
              "      <td>2021</td>\n",
              "      <td>10881</td>\n",
              "      <td>2</td>\n",
              "    </tr>\n",
              "    <tr>\n",
              "      <th>6</th>\n",
              "      <td>Scooter</td>\n",
              "      <td>2019</td>\n",
              "      <td>26367</td>\n",
              "      <td>2</td>\n",
              "    </tr>\n",
              "    <tr>\n",
              "      <th>7</th>\n",
              "      <td>Scooter</td>\n",
              "      <td>2020</td>\n",
              "      <td>135960</td>\n",
              "      <td>2</td>\n",
              "    </tr>\n",
              "    <tr>\n",
              "      <th>8</th>\n",
              "      <td>Scooter</td>\n",
              "      <td>2021</td>\n",
              "      <td>23525</td>\n",
              "      <td>2</td>\n",
              "    </tr>\n",
              "  </tbody>\n",
              "</table>\n",
              "</div>"
            ],
            "text/plain": [
              "  TransportMode  Year  TotalNumberOfDeliveries  AverageDeliveryTime\n",
              "0          Bike  2019                    28225                    2\n",
              "1          Bike  2020                   145404                    2\n",
              "2          Bike  2021                    24967                    2\n",
              "3           Car  2019                    12921                    2\n",
              "4           Car  2020                    66158                    2\n",
              "5           Car  2021                    10881                    2\n",
              "6       Scooter  2019                    26367                    2\n",
              "7       Scooter  2020                   135960                    2\n",
              "8       Scooter  2021                    23525                    2"
            ]
          },
          "metadata": {
            "tags": []
          },
          "execution_count": 11
        }
      ]
    },
    {
      "cell_type": "markdown",
      "metadata": {
        "id": "rice5ME2Au1P"
      },
      "source": [
        "### Query D\n"
      ]
    },
    {
      "cell_type": "markdown",
      "metadata": {
        "id": "wh0umGx5Au1T"
      },
      "source": [
        "*\\\"Consider only the deliveries with “bike” as transport mode. Separately for each month and restaurant, select the total revenue and the average delivery time.\\\"*"
      ]
    },
    {
      "cell_type": "code",
      "metadata": {
        "id": "HAm0zVqSREaH",
        "colab": {
          "base_uri": "https://localhost:8080/",
          "height": 402
        },
        "outputId": "0d4d5f96-6fae-4e4f-828e-f6c529c39f28"
      },
      "source": [
        "query_d = \"SELECT Month, Restaurant, SUM(TotalRevenue) as TotalRevenue, SUM(TotalDeliveryTime) / SUM(NumberOfDeliveries) as AverageDeliveryTime \\\n",
        "          FROM fact_delivery F, dim_time T, dim_restaurant R \\\n",
        "          WHERE F.TimeID = T.TimeID AND F.RestaurantID = R.RestaurantID AND F.TransportMode = 'Bike' \\\n",
        "          GROUP BY Month, Restaurant\"\n",
        "\n",
        "pd.read_sql_query(query_d, engine)"
      ],
      "execution_count": null,
      "outputs": [
        {
          "output_type": "execute_result",
          "data": {
            "text/html": [
              "<div>\n",
              "<style scoped>\n",
              "    .dataframe tbody tr th:only-of-type {\n",
              "        vertical-align: middle;\n",
              "    }\n",
              "\n",
              "    .dataframe tbody tr th {\n",
              "        vertical-align: top;\n",
              "    }\n",
              "\n",
              "    .dataframe thead th {\n",
              "        text-align: right;\n",
              "    }\n",
              "</style>\n",
              "<table border=\"1\" class=\"dataframe\">\n",
              "  <thead>\n",
              "    <tr style=\"text-align: right;\">\n",
              "      <th></th>\n",
              "      <th>Month</th>\n",
              "      <th>Restaurant</th>\n",
              "      <th>TotalRevenue</th>\n",
              "      <th>AverageDeliveryTime</th>\n",
              "    </tr>\n",
              "  </thead>\n",
              "  <tbody>\n",
              "    <tr>\n",
              "      <th>0</th>\n",
              "      <td>2019-10</td>\n",
              "      <td>Bellezza</td>\n",
              "      <td>5465.2</td>\n",
              "      <td>2</td>\n",
              "    </tr>\n",
              "    <tr>\n",
              "      <th>1</th>\n",
              "      <td>2019-10</td>\n",
              "      <td>Ciccio Marina</td>\n",
              "      <td>5049.2</td>\n",
              "      <td>2</td>\n",
              "    </tr>\n",
              "    <tr>\n",
              "      <th>2</th>\n",
              "      <td>2019-10</td>\n",
              "      <td>Enoteca Velia</td>\n",
              "      <td>4717.5</td>\n",
              "      <td>2</td>\n",
              "    </tr>\n",
              "    <tr>\n",
              "      <th>3</th>\n",
              "      <td>2019-10</td>\n",
              "      <td>Locanda La Lina</td>\n",
              "      <td>4939.9</td>\n",
              "      <td>2</td>\n",
              "    </tr>\n",
              "    <tr>\n",
              "      <th>4</th>\n",
              "      <td>2019-10</td>\n",
              "      <td>Ristorante I Fondi</td>\n",
              "      <td>5063.9</td>\n",
              "      <td>2</td>\n",
              "    </tr>\n",
              "    <tr>\n",
              "      <th>...</th>\n",
              "      <td>...</td>\n",
              "      <td>...</td>\n",
              "      <td>...</td>\n",
              "      <td>...</td>\n",
              "    </tr>\n",
              "    <tr>\n",
              "      <th>85</th>\n",
              "      <td>2021-03</td>\n",
              "      <td>Bellezza</td>\n",
              "      <td>3321.1</td>\n",
              "      <td>2</td>\n",
              "    </tr>\n",
              "    <tr>\n",
              "      <th>86</th>\n",
              "      <td>2021-03</td>\n",
              "      <td>Ciccio Marina</td>\n",
              "      <td>2234.9</td>\n",
              "      <td>2</td>\n",
              "    </tr>\n",
              "    <tr>\n",
              "      <th>87</th>\n",
              "      <td>2021-03</td>\n",
              "      <td>Enoteca Velia</td>\n",
              "      <td>1936.1</td>\n",
              "      <td>2</td>\n",
              "    </tr>\n",
              "    <tr>\n",
              "      <th>88</th>\n",
              "      <td>2021-03</td>\n",
              "      <td>Locanda La Lina</td>\n",
              "      <td>2571.3</td>\n",
              "      <td>2</td>\n",
              "    </tr>\n",
              "    <tr>\n",
              "      <th>89</th>\n",
              "      <td>2021-03</td>\n",
              "      <td>Ristorante I Fondi</td>\n",
              "      <td>2333.5</td>\n",
              "      <td>3</td>\n",
              "    </tr>\n",
              "  </tbody>\n",
              "</table>\n",
              "<p>90 rows × 4 columns</p>\n",
              "</div>"
            ],
            "text/plain": [
              "      Month          Restaurant  TotalRevenue  AverageDeliveryTime\n",
              "0   2019-10            Bellezza        5465.2                    2\n",
              "1   2019-10       Ciccio Marina        5049.2                    2\n",
              "2   2019-10       Enoteca Velia        4717.5                    2\n",
              "3   2019-10     Locanda La Lina        4939.9                    2\n",
              "4   2019-10  Ristorante I Fondi        5063.9                    2\n",
              "..      ...                 ...           ...                  ...\n",
              "85  2021-03            Bellezza        3321.1                    2\n",
              "86  2021-03       Ciccio Marina        2234.9                    2\n",
              "87  2021-03       Enoteca Velia        1936.1                    2\n",
              "88  2021-03     Locanda La Lina        2571.3                    2\n",
              "89  2021-03  Ristorante I Fondi        2333.5                    3\n",
              "\n",
              "[90 rows x 4 columns]"
            ]
          },
          "metadata": {
            "tags": []
          },
          "execution_count": 12
        }
      ]
    },
    {
      "cell_type": "markdown",
      "metadata": {
        "id": "3hrsgRDkCwo3"
      },
      "source": [
        "### Query E\n"
      ]
    },
    {
      "cell_type": "markdown",
      "metadata": {
        "id": "oI2eFTZCCwo6"
      },
      "source": [
        "*\\\"Separately for date and transport mode, select the total revenue and the maximum delivery time.\\\"*"
      ]
    },
    {
      "cell_type": "code",
      "metadata": {
        "id": "WKvJu0Z3RP9P",
        "colab": {
          "base_uri": "https://localhost:8080/",
          "height": 402
        },
        "outputId": "b8c8f80d-0071-4b23-e8bb-51597d2d996b"
      },
      "source": [
        "query_e = \"SELECT Date, TransportMode, SUM(TotalRevenue) as TotalRevenue, MAX(TotalDeliveryTime) as MaxDeliveryTime \\\n",
        "          FROM fact_delivery F, dim_time T \\\n",
        "          WHERE F.TimeID = T.TimeID \\\n",
        "          GROUP BY Date, TransportMode\"\n",
        "\n",
        "pd.read_sql_query(query_e, engine)"
      ],
      "execution_count": null,
      "outputs": [
        {
          "output_type": "execute_result",
          "data": {
            "text/html": [
              "<div>\n",
              "<style scoped>\n",
              "    .dataframe tbody tr th:only-of-type {\n",
              "        vertical-align: middle;\n",
              "    }\n",
              "\n",
              "    .dataframe tbody tr th {\n",
              "        vertical-align: top;\n",
              "    }\n",
              "\n",
              "    .dataframe thead th {\n",
              "        text-align: right;\n",
              "    }\n",
              "</style>\n",
              "<table border=\"1\" class=\"dataframe\">\n",
              "  <thead>\n",
              "    <tr style=\"text-align: right;\">\n",
              "      <th></th>\n",
              "      <th>Date</th>\n",
              "      <th>TransportMode</th>\n",
              "      <th>TotalRevenue</th>\n",
              "      <th>MaxDeliveryTime</th>\n",
              "    </tr>\n",
              "  </thead>\n",
              "  <tbody>\n",
              "    <tr>\n",
              "      <th>0</th>\n",
              "      <td>2019-10-25</td>\n",
              "      <td>Bike</td>\n",
              "      <td>6228.5</td>\n",
              "      <td>65</td>\n",
              "    </tr>\n",
              "    <tr>\n",
              "      <th>1</th>\n",
              "      <td>2019-10-25</td>\n",
              "      <td>Car</td>\n",
              "      <td>2673.0</td>\n",
              "      <td>67</td>\n",
              "    </tr>\n",
              "    <tr>\n",
              "      <th>2</th>\n",
              "      <td>2019-10-25</td>\n",
              "      <td>Scooter</td>\n",
              "      <td>6671.0</td>\n",
              "      <td>64</td>\n",
              "    </tr>\n",
              "    <tr>\n",
              "      <th>3</th>\n",
              "      <td>2019-10-26</td>\n",
              "      <td>Bike</td>\n",
              "      <td>2098.6</td>\n",
              "      <td>58</td>\n",
              "    </tr>\n",
              "    <tr>\n",
              "      <th>4</th>\n",
              "      <td>2019-10-26</td>\n",
              "      <td>Car</td>\n",
              "      <td>1037.6</td>\n",
              "      <td>55</td>\n",
              "    </tr>\n",
              "    <tr>\n",
              "      <th>...</th>\n",
              "      <td>...</td>\n",
              "      <td>...</td>\n",
              "      <td>...</td>\n",
              "      <td>...</td>\n",
              "    </tr>\n",
              "    <tr>\n",
              "      <th>1258</th>\n",
              "      <td>2021-03-04</td>\n",
              "      <td>Car</td>\n",
              "      <td>1407.0</td>\n",
              "      <td>59</td>\n",
              "    </tr>\n",
              "    <tr>\n",
              "      <th>1259</th>\n",
              "      <td>2021-03-04</td>\n",
              "      <td>Scooter</td>\n",
              "      <td>3569.6</td>\n",
              "      <td>67</td>\n",
              "    </tr>\n",
              "    <tr>\n",
              "      <th>1260</th>\n",
              "      <td>2021-03-06</td>\n",
              "      <td>Bike</td>\n",
              "      <td>3634.1</td>\n",
              "      <td>62</td>\n",
              "    </tr>\n",
              "    <tr>\n",
              "      <th>1261</th>\n",
              "      <td>2021-03-06</td>\n",
              "      <td>Car</td>\n",
              "      <td>1997.7</td>\n",
              "      <td>62</td>\n",
              "    </tr>\n",
              "    <tr>\n",
              "      <th>1262</th>\n",
              "      <td>2021-03-06</td>\n",
              "      <td>Scooter</td>\n",
              "      <td>3716.7</td>\n",
              "      <td>62</td>\n",
              "    </tr>\n",
              "  </tbody>\n",
              "</table>\n",
              "<p>1263 rows × 4 columns</p>\n",
              "</div>"
            ],
            "text/plain": [
              "            Date TransportMode  TotalRevenue  MaxDeliveryTime\n",
              "0     2019-10-25          Bike        6228.5               65\n",
              "1     2019-10-25           Car        2673.0               67\n",
              "2     2019-10-25       Scooter        6671.0               64\n",
              "3     2019-10-26          Bike        2098.6               58\n",
              "4     2019-10-26           Car        1037.6               55\n",
              "...          ...           ...           ...              ...\n",
              "1258  2021-03-04           Car        1407.0               59\n",
              "1259  2021-03-04       Scooter        3569.6               67\n",
              "1260  2021-03-06          Bike        3634.1               62\n",
              "1261  2021-03-06           Car        1997.7               62\n",
              "1262  2021-03-06       Scooter        3716.7               62\n",
              "\n",
              "[1263 rows x 4 columns]"
            ]
          },
          "metadata": {
            "tags": []
          },
          "execution_count": 13
        }
      ]
    },
    {
      "cell_type": "markdown",
      "metadata": {
        "id": "k0qkOBnKEdZ-"
      },
      "source": [
        "### Query F\n"
      ]
    },
    {
      "cell_type": "markdown",
      "metadata": {
        "id": "ZdJgjoJTEdaA"
      },
      "source": [
        "*\\\"Separately for each month, select the total revenue and the average daily revenue.\\\"*"
      ]
    },
    {
      "cell_type": "code",
      "metadata": {
        "id": "0W-5D89MRSOB",
        "colab": {
          "base_uri": "https://localhost:8080/",
          "height": 580
        },
        "outputId": "9ed60db4-e883-48a3-ad6b-65ae484d5f7b"
      },
      "source": [
        "query_f = \"SELECT Month, SUM(TotalRevenue) as TotalRevenue, SUM(TotalRevenue) / COUNT(DISTINCT Date) as AverageDailyRevenue \\\n",
        "          FROM fact_delivery F, dim_time T \\\n",
        "          WHERE F.TimeID = T.TimeID \\\n",
        "          GROUP BY Month\"\n",
        "\n",
        "pd.read_sql_query(query_f, engine)"
      ],
      "execution_count": null,
      "outputs": [
        {
          "output_type": "execute_result",
          "data": {
            "text/html": [
              "<div>\n",
              "<style scoped>\n",
              "    .dataframe tbody tr th:only-of-type {\n",
              "        vertical-align: middle;\n",
              "    }\n",
              "\n",
              "    .dataframe tbody tr th {\n",
              "        vertical-align: top;\n",
              "    }\n",
              "\n",
              "    .dataframe thead th {\n",
              "        text-align: right;\n",
              "    }\n",
              "</style>\n",
              "<table border=\"1\" class=\"dataframe\">\n",
              "  <thead>\n",
              "    <tr style=\"text-align: right;\">\n",
              "      <th></th>\n",
              "      <th>Month</th>\n",
              "      <th>TotalRevenue</th>\n",
              "      <th>AverageDailyRevenue</th>\n",
              "    </tr>\n",
              "  </thead>\n",
              "  <tbody>\n",
              "    <tr>\n",
              "      <th>0</th>\n",
              "      <td>2019-10</td>\n",
              "      <td>59999.6</td>\n",
              "      <td>9999.933333</td>\n",
              "    </tr>\n",
              "    <tr>\n",
              "      <th>1</th>\n",
              "      <td>2019-11</td>\n",
              "      <td>235066.2</td>\n",
              "      <td>9794.425000</td>\n",
              "    </tr>\n",
              "    <tr>\n",
              "      <th>2</th>\n",
              "      <td>2019-12</td>\n",
              "      <td>304761.3</td>\n",
              "      <td>11287.455556</td>\n",
              "    </tr>\n",
              "    <tr>\n",
              "      <th>3</th>\n",
              "      <td>2020-01</td>\n",
              "      <td>284280.8</td>\n",
              "      <td>10933.876923</td>\n",
              "    </tr>\n",
              "    <tr>\n",
              "      <th>4</th>\n",
              "      <td>2020-02</td>\n",
              "      <td>173726.1</td>\n",
              "      <td>8272.671429</td>\n",
              "    </tr>\n",
              "    <tr>\n",
              "      <th>5</th>\n",
              "      <td>2020-03</td>\n",
              "      <td>301780.7</td>\n",
              "      <td>10406.231034</td>\n",
              "    </tr>\n",
              "    <tr>\n",
              "      <th>6</th>\n",
              "      <td>2020-04</td>\n",
              "      <td>277653.2</td>\n",
              "      <td>9574.248276</td>\n",
              "    </tr>\n",
              "    <tr>\n",
              "      <th>7</th>\n",
              "      <td>2020-05</td>\n",
              "      <td>230276.7</td>\n",
              "      <td>8856.796154</td>\n",
              "    </tr>\n",
              "    <tr>\n",
              "      <th>8</th>\n",
              "      <td>2020-06</td>\n",
              "      <td>267351.6</td>\n",
              "      <td>9219.020690</td>\n",
              "    </tr>\n",
              "    <tr>\n",
              "      <th>9</th>\n",
              "      <td>2020-07</td>\n",
              "      <td>212320.1</td>\n",
              "      <td>10110.480952</td>\n",
              "    </tr>\n",
              "    <tr>\n",
              "      <th>10</th>\n",
              "      <td>2020-08</td>\n",
              "      <td>309792.5</td>\n",
              "      <td>11064.017857</td>\n",
              "    </tr>\n",
              "    <tr>\n",
              "      <th>11</th>\n",
              "      <td>2020-09</td>\n",
              "      <td>261058.6</td>\n",
              "      <td>10442.344000</td>\n",
              "    </tr>\n",
              "    <tr>\n",
              "      <th>12</th>\n",
              "      <td>2020-10</td>\n",
              "      <td>256821.3</td>\n",
              "      <td>10700.887500</td>\n",
              "    </tr>\n",
              "    <tr>\n",
              "      <th>13</th>\n",
              "      <td>2020-11</td>\n",
              "      <td>225269.1</td>\n",
              "      <td>8045.325000</td>\n",
              "    </tr>\n",
              "    <tr>\n",
              "      <th>14</th>\n",
              "      <td>2020-12</td>\n",
              "      <td>271603.4</td>\n",
              "      <td>10446.284615</td>\n",
              "    </tr>\n",
              "    <tr>\n",
              "      <th>15</th>\n",
              "      <td>2021-01</td>\n",
              "      <td>279217.5</td>\n",
              "      <td>11168.700000</td>\n",
              "    </tr>\n",
              "    <tr>\n",
              "      <th>16</th>\n",
              "      <td>2021-02</td>\n",
              "      <td>212938.2</td>\n",
              "      <td>9258.182609</td>\n",
              "    </tr>\n",
              "    <tr>\n",
              "      <th>17</th>\n",
              "      <td>2021-03</td>\n",
              "      <td>30274.8</td>\n",
              "      <td>7568.700000</td>\n",
              "    </tr>\n",
              "  </tbody>\n",
              "</table>\n",
              "</div>"
            ],
            "text/plain": [
              "      Month  TotalRevenue  AverageDailyRevenue\n",
              "0   2019-10       59999.6          9999.933333\n",
              "1   2019-11      235066.2          9794.425000\n",
              "2   2019-12      304761.3         11287.455556\n",
              "3   2020-01      284280.8         10933.876923\n",
              "4   2020-02      173726.1          8272.671429\n",
              "5   2020-03      301780.7         10406.231034\n",
              "6   2020-04      277653.2          9574.248276\n",
              "7   2020-05      230276.7          8856.796154\n",
              "8   2020-06      267351.6          9219.020690\n",
              "9   2020-07      212320.1         10110.480952\n",
              "10  2020-08      309792.5         11064.017857\n",
              "11  2020-09      261058.6         10442.344000\n",
              "12  2020-10      256821.3         10700.887500\n",
              "13  2020-11      225269.1          8045.325000\n",
              "14  2020-12      271603.4         10446.284615\n",
              "15  2021-01      279217.5         11168.700000\n",
              "16  2021-02      212938.2          9258.182609\n",
              "17  2021-03       30274.8          7568.700000"
            ]
          },
          "metadata": {
            "tags": []
          },
          "execution_count": 14
        }
      ]
    },
    {
      "cell_type": "markdown",
      "metadata": {
        "id": "hr5q-6XtoGJa"
      },
      "source": [
        "## Join for Google Data Studio"
      ]
    },
    {
      "cell_type": "code",
      "metadata": {
        "id": "jkLuag5koGJu"
      },
      "source": [
        "query_join = \"SELECT Restaurant, Address, City, Province, Region, Date, Weekday, Holiday, Month, Semester, Year, Category, PaymentMethod, TransportMode, TotalRevenue, TotalDeliveryTime, NumberOfDeliveries \\\n",
        "              FROM fact_delivery F, dim_restaurant R, dim_time T, dim_category C \\\n",
        "              WHERE F.RestaurantID = R.RestaurantID AND F.CategoryID = C.CategoryID AND F.TimeID = T.TimeID\""
      ],
      "execution_count": null,
      "outputs": []
    },
    {
      "cell_type": "code",
      "metadata": {
        "id": "JI5-ijQ5oGJv"
      },
      "source": [
        "df=pd.read_sql_query(query_join, engine)"
      ],
      "execution_count": null,
      "outputs": []
    },
    {
      "cell_type": "code",
      "metadata": {
        "id": "NcmimpZpqXfx",
        "colab": {
          "base_uri": "https://localhost:8080/",
          "height": 434
        },
        "outputId": "3393381b-7b7f-4a04-fa35-f07f0e23f978"
      },
      "source": [
        "df.head()"
      ],
      "execution_count": null,
      "outputs": [
        {
          "output_type": "execute_result",
          "data": {
            "text/html": [
              "<div>\n",
              "<style scoped>\n",
              "    .dataframe tbody tr th:only-of-type {\n",
              "        vertical-align: middle;\n",
              "    }\n",
              "\n",
              "    .dataframe tbody tr th {\n",
              "        vertical-align: top;\n",
              "    }\n",
              "\n",
              "    .dataframe thead th {\n",
              "        text-align: right;\n",
              "    }\n",
              "</style>\n",
              "<table border=\"1\" class=\"dataframe\">\n",
              "  <thead>\n",
              "    <tr style=\"text-align: right;\">\n",
              "      <th></th>\n",
              "      <th>Restaurant</th>\n",
              "      <th>Address</th>\n",
              "      <th>City</th>\n",
              "      <th>Province</th>\n",
              "      <th>Region</th>\n",
              "      <th>Date</th>\n",
              "      <th>Weekday</th>\n",
              "      <th>Holiday</th>\n",
              "      <th>Month</th>\n",
              "      <th>Semester</th>\n",
              "      <th>Year</th>\n",
              "      <th>Category</th>\n",
              "      <th>PaymentMethod</th>\n",
              "      <th>TransportMode</th>\n",
              "      <th>TotalRevenue</th>\n",
              "      <th>TotalDeliveryTime</th>\n",
              "      <th>NumberOfDeliveries</th>\n",
              "    </tr>\n",
              "  </thead>\n",
              "  <tbody>\n",
              "    <tr>\n",
              "      <th>0</th>\n",
              "      <td>Enoteca Velia</td>\n",
              "      <td>Viale Sabatino 7</td>\n",
              "      <td>San Giacomo delle Segnate</td>\n",
              "      <td>Mantova (MN)</td>\n",
              "      <td>Lombardia</td>\n",
              "      <td>2020-09-08</td>\n",
              "      <td>Tuesday</td>\n",
              "      <td>0</td>\n",
              "      <td>2020-09</td>\n",
              "      <td>2</td>\n",
              "      <td>2020</td>\n",
              "      <td>Italian</td>\n",
              "      <td>Satispay</td>\n",
              "      <td>Scooter</td>\n",
              "      <td>30.3</td>\n",
              "      <td>12</td>\n",
              "      <td>2</td>\n",
              "    </tr>\n",
              "    <tr>\n",
              "      <th>1</th>\n",
              "      <td>Locanda La Lina</td>\n",
              "      <td>Canale Giovanna 386</td>\n",
              "      <td>Samo</td>\n",
              "      <td>Reggio Calabria (RC)</td>\n",
              "      <td>Calabria</td>\n",
              "      <td>2020-03-17</td>\n",
              "      <td>Tuesday</td>\n",
              "      <td>0</td>\n",
              "      <td>2020-03</td>\n",
              "      <td>1</td>\n",
              "      <td>2020</td>\n",
              "      <td>Other</td>\n",
              "      <td>Cash</td>\n",
              "      <td>Scooter</td>\n",
              "      <td>67.9</td>\n",
              "      <td>24</td>\n",
              "      <td>6</td>\n",
              "    </tr>\n",
              "    <tr>\n",
              "      <th>2</th>\n",
              "      <td>Enoteca Velia</td>\n",
              "      <td>Viale Sabatino 7</td>\n",
              "      <td>San Giacomo delle Segnate</td>\n",
              "      <td>Mantova (MN)</td>\n",
              "      <td>Lombardia</td>\n",
              "      <td>2020-03-19</td>\n",
              "      <td>Thursday</td>\n",
              "      <td>0</td>\n",
              "      <td>2020-03</td>\n",
              "      <td>1</td>\n",
              "      <td>2020</td>\n",
              "      <td>Italian</td>\n",
              "      <td>Bancomat</td>\n",
              "      <td>Car</td>\n",
              "      <td>107.5</td>\n",
              "      <td>31</td>\n",
              "      <td>9</td>\n",
              "    </tr>\n",
              "    <tr>\n",
              "      <th>3</th>\n",
              "      <td>Bellezza</td>\n",
              "      <td>Via Gaspare 4</td>\n",
              "      <td>Mortara</td>\n",
              "      <td>Pavia (PV)</td>\n",
              "      <td>Lombardia</td>\n",
              "      <td>2020-07-22</td>\n",
              "      <td>Wednesday</td>\n",
              "      <td>0</td>\n",
              "      <td>2020-07</td>\n",
              "      <td>2</td>\n",
              "      <td>2020</td>\n",
              "      <td>Italian</td>\n",
              "      <td>Satispay</td>\n",
              "      <td>Bike</td>\n",
              "      <td>47.7</td>\n",
              "      <td>17</td>\n",
              "      <td>8</td>\n",
              "    </tr>\n",
              "    <tr>\n",
              "      <th>4</th>\n",
              "      <td>Enoteca Velia</td>\n",
              "      <td>Viale Sabatino 7</td>\n",
              "      <td>San Giacomo delle Segnate</td>\n",
              "      <td>Mantova (MN)</td>\n",
              "      <td>Lombardia</td>\n",
              "      <td>2021-01-28</td>\n",
              "      <td>Thursday</td>\n",
              "      <td>0</td>\n",
              "      <td>2021-01</td>\n",
              "      <td>1</td>\n",
              "      <td>2021</td>\n",
              "      <td>Italian</td>\n",
              "      <td>Satispay</td>\n",
              "      <td>Car</td>\n",
              "      <td>88.7</td>\n",
              "      <td>34</td>\n",
              "      <td>11</td>\n",
              "    </tr>\n",
              "  </tbody>\n",
              "</table>\n",
              "</div>"
            ],
            "text/plain": [
              "        Restaurant              Address  ... TotalDeliveryTime NumberOfDeliveries\n",
              "0    Enoteca Velia     Viale Sabatino 7  ...                12                  2\n",
              "1  Locanda La Lina  Canale Giovanna 386  ...                24                  6\n",
              "2    Enoteca Velia     Viale Sabatino 7  ...                31                  9\n",
              "3         Bellezza        Via Gaspare 4  ...                17                  8\n",
              "4    Enoteca Velia     Viale Sabatino 7  ...                34                 11\n",
              "\n",
              "[5 rows x 17 columns]"
            ]
          },
          "metadata": {
            "tags": []
          },
          "execution_count": 17
        }
      ]
    },
    {
      "cell_type": "code",
      "metadata": {
        "id": "pBwfCQuRprWh"
      },
      "source": [
        "df.to_csv(\"./deliveries_joined.csv\", index=False)"
      ],
      "execution_count": null,
      "outputs": []
    },
    {
      "cell_type": "markdown",
      "metadata": {
        "id": "J1zGKCHQvsa_"
      },
      "source": [
        "The joined table is used in Google Data Studio for visualization purposes. The related report is available at this [link](https://datastudio.google.com/reporting/e0fd2c8b-c713-4cf3-a9fe-705bc2f8ca6a)."
      ]
    }
  ]
}