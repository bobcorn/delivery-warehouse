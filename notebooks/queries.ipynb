{
  "nbformat": 4,
  "nbformat_minor": 0,
  "metadata": {
    "colab": {
      "name": "Project 1 - Data Warehousing | Marco Rossini (s291482)",
      "provenance": [],
      "collapsed_sections": [
        "xVhWlcj42-cI"
      ],
      "toc_visible": true
    },
    "kernelspec": {
      "name": "python3",
      "display_name": "Python 3"
    }
  },
  "cells": [
    {
      "cell_type": "markdown",
      "metadata": {
        "id": "RIO49qNUOqhy"
      },
      "source": [
        "# Project 1 - Data Warehousing | Marco Rossini (s291482)"
      ]
    },
    {
      "cell_type": "markdown",
      "metadata": {
        "id": "oNNqmkoEPyXV"
      },
      "source": [
        "## Data import and connection with the database"
      ]
    },
    {
      "cell_type": "code",
      "metadata": {
        "id": "vMsx9qWRviVF"
      },
      "source": [
        "import pandas as pd"
      ],
      "execution_count": null,
      "outputs": []
    },
    {
      "cell_type": "markdown",
      "metadata": {
        "id": "kE_nrIR4ypfy"
      },
      "source": [
        "### Import the input tables"
      ]
    },
    {
      "cell_type": "markdown",
      "metadata": {
        "id": "0AyPU2RoNoUe"
      },
      "source": [
        "Read from URL"
      ]
    },
    {
      "cell_type": "code",
      "metadata": {
        "id": "AgJfpnI0NHTp"
      },
      "source": [
        "dim_restaurant=pd.read_csv(\"https://marcorossini.altervista.org/projects/master/advanced-databases/project-work-1/dim_restaurant.csv\")\n",
        "dim_time=pd.read_csv(\"https://marcorossini.altervista.org/projects/master/advanced-databases/project-work-1/dim_time.csv\")\n",
        "dim_category=pd.read_csv(\"https://marcorossini.altervista.org/projects/master/advanced-databases/project-work-1/dim_category.csv\")\n",
        "fact_delivery=pd.read_csv(\"https://marcorossini.altervista.org/projects/master/advanced-databases/project-work-1/fact_delivery.csv\")"
      ],
      "execution_count": null,
      "outputs": []
    },
    {
      "cell_type": "markdown",
      "metadata": {
        "id": "ShOZBIGVy3x-"
      },
      "source": [
        "### Create a local SQLite database."
      ]
    },
    {
      "cell_type": "markdown",
      "metadata": {
        "id": "yTXEc3hQWa1y"
      },
      "source": [
        "The `create_engine()` function takes the database as one argument. We indicate the URL as the first positional argument with connection arguments. Using the code given below, we can create a database.\n"
      ]
    },
    {
      "cell_type": "code",
      "metadata": {
        "id": "IPpQGOf9vmno"
      },
      "source": [
        "from sqlalchemy import create_engine\n",
        "engine = create_engine('sqlite:///deliveries.db')"
      ],
      "execution_count": null,
      "outputs": []
    },
    {
      "cell_type": "markdown",
      "metadata": {
        "id": "ylJrX0EKzELx"
      },
      "source": [
        "### Write records stored in the dataframe to the SQL database.\n"
      ]
    },
    {
      "cell_type": "markdown",
      "metadata": {
        "id": "Ihuorkw7Yv-f"
      },
      "source": [
        "After creating our engine, we need to define and create our tables. We use the `to_sql` function of pandas."
      ]
    },
    {
      "cell_type": "code",
      "metadata": {
        "id": "NxeoJfB4vmv-"
      },
      "source": [
        "dim_restaurant.to_sql('dim_restaurant', con=engine, if_exists=\"replace\", index=False)\n",
        "dim_time.to_sql(\"dim_time\", con=engine, if_exists=\"replace\", index=False)\n",
        "dim_category.to_sql(\"dim_category\", con=engine, if_exists=\"replace\", index=False)\n",
        "fact_delivery.to_sql(\"fact_delivery\", con=engine, if_exists=\"replace\", index=False)"
      ],
      "execution_count": null,
      "outputs": []
    },
    {
      "cell_type": "code",
      "metadata": {
        "id": "k1ExZL0O-__E"
      },
      "source": [
        "dim_restaurant.head()"
      ],
      "execution_count": null,
      "outputs": []
    },
    {
      "cell_type": "code",
      "metadata": {
        "id": "_ciL2FMx_FAW"
      },
      "source": [
        "dim_time.head()"
      ],
      "execution_count": null,
      "outputs": []
    },
    {
      "cell_type": "code",
      "metadata": {
        "id": "l8Hubps3_E0c"
      },
      "source": [
        "dim_category.head()"
      ],
      "execution_count": null,
      "outputs": []
    },
    {
      "cell_type": "code",
      "metadata": {
        "id": "qbiGad4k_bJQ"
      },
      "source": [
        "fact_delivery.head()"
      ],
      "execution_count": null,
      "outputs": []
    },
    {
      "cell_type": "markdown",
      "metadata": {
        "id": "_I7xE5YXE1sC"
      },
      "source": [
        "\n",
        "## Querying the Data Warehouse"
      ]
    },
    {
      "cell_type": "markdown",
      "metadata": {
        "id": "xVhWlcj42-cI"
      },
      "source": [
        "### Query A"
      ]
    },
    {
      "cell_type": "markdown",
      "metadata": {
        "id": "096_1YrO2-cK"
      },
      "source": [
        "*\\\"For each day, select the total revenue and the average revenue per delivery. Sort the result by date.\\\"*"
      ]
    },
    {
      "cell_type": "code",
      "metadata": {
        "id": "dzHexxlEPO3Z"
      },
      "source": [
        "query_a= \"SELECT Date, SUM(TotalRevenue) as TotalRevenue, SUM(TotalRevenue) / SUM(NumberOfDeliveries) as AverageRevenuePerDelivery \\\n",
        "          FROM fact_delivery F, dim_time T \\\n",
        "          WHERE F.TimeID = T.TimeID \\\n",
        "          GROUP BY Date \\\n",
        "          ORDER BY Date\"\n",
        "\n",
        "pd.read_sql_query(query_a, engine)"
      ],
      "execution_count": null,
      "outputs": []
    },
    {
      "cell_type": "markdown",
      "metadata": {
        "id": "RZneyJlhP6LI"
      },
      "source": [
        "### Query B\n"
      ]
    },
    {
      "cell_type": "markdown",
      "metadata": {
        "id": "Rx9zbJqaNt3o"
      },
      "source": [
        "*\\\"Select the yearly revenue and the total number of deliveries for each restaurant. Sort the results by descending yearly revenue.\\\"*"
      ]
    },
    {
      "cell_type": "code",
      "metadata": {
        "id": "Pw-gLozZQWcz"
      },
      "source": [
        "query_b= \"SELECT Restaurant, Year, SUM(TotalRevenue) as YearlyRevenue, SUM(NumberOfDeliveries) as TotalNumberOfDeliveries \\\n",
        "          FROM fact_delivery F, dim_time T, dim_restaurant R \\\n",
        "          WHERE F.RestaurantID = R.RestaurantID AND F.TimeID = T.TimeID \\\n",
        "          GROUP BY Restaurant, Year \\\n",
        "          ORDER BY YearlyRevenue DESC\"\n",
        "\n",
        "pd.read_sql_query(query_b, engine)"
      ],
      "execution_count": null,
      "outputs": []
    },
    {
      "cell_type": "markdown",
      "metadata": {
        "id": "InecNp0q4F5n"
      },
      "source": [
        "### Query C\n"
      ]
    },
    {
      "cell_type": "markdown",
      "metadata": {
        "id": "dGJnZSwL4F51"
      },
      "source": [
        "*\\\"Separately for each transport mode and year, select the total number of deliveries and the average time for delivery.\\\"*"
      ]
    },
    {
      "cell_type": "code",
      "metadata": {
        "id": "WuZE5RmkQ6Pl"
      },
      "source": [
        "query_c= \"SELECT TransportMode, Year, SUM(NumberOfDeliveries) as TotalNumberOfDeliveries, SUM(TotalDeliveryTime) / SUM(NumberOfDeliveries) as AverageDeliveryTime \\\n",
        "          FROM fact_delivery F, dim_time T \\\n",
        "          WHERE F.TimeID = T.TimeID \\\n",
        "          GROUP BY TransportMode, Year\"\n",
        "\n",
        "pd.read_sql_query(query_c, engine)"
      ],
      "execution_count": null,
      "outputs": []
    },
    {
      "cell_type": "markdown",
      "metadata": {
        "id": "rice5ME2Au1P"
      },
      "source": [
        "### Query D\n"
      ]
    },
    {
      "cell_type": "markdown",
      "metadata": {
        "id": "wh0umGx5Au1T"
      },
      "source": [
        "*\\\"Consider only the deliveries with “bike” as transport mode. Separately for each month and restaurant, select the total revenue and the average delivery time.\\\"*"
      ]
    },
    {
      "cell_type": "code",
      "metadata": {
        "id": "HAm0zVqSREaH"
      },
      "source": [
        "query_d= \"SELECT Month, Restaurant, SUM(TotalRevenue) as TotalRevenue, SUM(TotalDeliveryTime) / SUM(NumberOfDeliveries) as AverageDeliveryTime \\\n",
        "          FROM fact_delivery F, dim_time T, dim_restaurant R \\\n",
        "          WHERE F.TimeID = T.TimeID AND F.RestaurantID = R.RestaurantID AND F.TransportMode = 'Bike' \\\n",
        "          GROUP BY Month, Restaurant\"\n",
        "\n",
        "pd.read_sql_query(query_d, engine)"
      ],
      "execution_count": null,
      "outputs": []
    },
    {
      "cell_type": "markdown",
      "metadata": {
        "id": "3hrsgRDkCwo3"
      },
      "source": [
        "### Query E\n"
      ]
    },
    {
      "cell_type": "markdown",
      "metadata": {
        "id": "oI2eFTZCCwo6"
      },
      "source": [
        "*\\\"Separately for date and transport mode, select the total revenue and the maximum delivery time.\\\"*"
      ]
    },
    {
      "cell_type": "code",
      "metadata": {
        "id": "WKvJu0Z3RP9P"
      },
      "source": [
        "query_e= \"SELECT Date, TransportMode, SUM(TotalRevenue) as TotalRevenue, MAX(TotalDeliveryTime) as MaxDeliveryTime \\\n",
        "          FROM fact_delivery F, dim_time T \\\n",
        "          WHERE F.TimeID = T.TimeID \\\n",
        "          GROUP BY Date, TransportMode\"\n",
        "\n",
        "pd.read_sql_query(query_e, engine)"
      ],
      "execution_count": null,
      "outputs": []
    },
    {
      "cell_type": "markdown",
      "metadata": {
        "id": "k0qkOBnKEdZ-"
      },
      "source": [
        "### Query F\n"
      ]
    },
    {
      "cell_type": "markdown",
      "metadata": {
        "id": "ZdJgjoJTEdaA"
      },
      "source": [
        "*\\\"Separately for each month, select the total revenue and the average daily revenue.\\\"*"
      ]
    },
    {
      "cell_type": "code",
      "metadata": {
        "id": "0W-5D89MRSOB"
      },
      "source": [
        "query_f= \"SELECT Month, SUM(TotalRevenue) as TotalRevenue, SUM(TotalRevenue) / COUNT(DISTINCT Date) as AverageDailyRevenue \\\n",
        "          FROM fact_delivery F, dim_time T \\\n",
        "          WHERE F.TimeID = T.TimeID \\\n",
        "          GROUP BY Month\"\n",
        "\n",
        "pd.read_sql_query(query_f, engine)"
      ],
      "execution_count": null,
      "outputs": []
    },
    {
      "cell_type": "markdown",
      "metadata": {
        "id": "hr5q-6XtoGJa"
      },
      "source": [
        "## Join for Google Data Studio"
      ]
    },
    {
      "cell_type": "code",
      "metadata": {
        "id": "jkLuag5koGJu"
      },
      "source": [
        "query_join = \"SELECT Restaurant, Address, City, Province, Region, Date, Weekday, Holiday, Month, Semester, Year, Category, PaymentMethod, TransportMode, TotalRevenue, TotalDeliveryTime, NumberOfDeliveries \\\n",
        "              FROM fact_delivery F, dim_restaurant R, dim_time T, dim_category C \\\n",
        "              WHERE F.RestaurantID = R.RestaurantID AND F.CategoryID = C.CategoryID AND F.TimeID = T.TimeID\""
      ],
      "execution_count": null,
      "outputs": []
    },
    {
      "cell_type": "code",
      "metadata": {
        "id": "JI5-ijQ5oGJv"
      },
      "source": [
        "df=pd.read_sql_query(query_join, engine)"
      ],
      "execution_count": null,
      "outputs": []
    },
    {
      "cell_type": "code",
      "metadata": {
        "id": "NcmimpZpqXfx"
      },
      "source": [
        "df.head()"
      ],
      "execution_count": null,
      "outputs": []
    },
    {
      "cell_type": "code",
      "metadata": {
        "id": "pBwfCQuRprWh"
      },
      "source": [
        "df.to_csv(\"./deliveries_joined.csv\", index=False)"
      ],
      "execution_count": null,
      "outputs": []
    },
    {
      "cell_type": "markdown",
      "metadata": {
        "id": "J1zGKCHQvsa_"
      },
      "source": [
        "The joined table is used in Google Data Studio for visualization purposes. The related report is available at this [link](https://datastudio.google.com/reporting/e0fd2c8b-c713-4cf3-a9fe-705bc2f8ca6a)."
      ]
    }
  ]
}